{
 "cells": [
  {
   "cell_type": "markdown",
   "metadata": {
    "tags": [
     "pdf-title"
    ]
   },
   "source": [
    "# Softmax exercise\n",
    "\n",
    "*Complete and hand in this completed worksheet (including its outputs and any supporting code outside of the worksheet) with your assignment submission. For more details see the [assignments page](http://vision.stanford.edu/teaching/cs231n/assignments.html) on the course website.*\n",
    "\n",
    "This exercise is analogous to the SVM exercise. You will:\n",
    "\n",
    "- implement a fully-vectorized **loss function** for the Softmax classifier\n",
    "- implement the fully-vectorized expression for its **analytic gradient**\n",
    "- **check your implementation** with numerical gradient\n",
    "- use a validation set to **tune the learning rate and regularization** strength\n",
    "- **optimize** the loss function with **SGD**\n",
    "- **visualize** the final learned weights\n"
   ]
  },
  {
   "cell_type": "code",
   "execution_count": 1,
   "metadata": {
    "tags": [
     "pdf-ignore"
    ]
   },
   "outputs": [],
   "source": [
    "import random\n",
    "import numpy as np\n",
    "from cs231n.data_utils import load_CIFAR10\n",
    "import matplotlib.pyplot as plt\n",
    "\n",
    "%matplotlib inline\n",
    "plt.rcParams['figure.figsize'] = (10.0, 8.0) # set default size of plots\n",
    "plt.rcParams['image.interpolation'] = 'nearest'\n",
    "plt.rcParams['image.cmap'] = 'gray'\n",
    "\n",
    "# for auto-reloading extenrnal modules\n",
    "# see http://stackoverflow.com/questions/1907993/autoreload-of-modules-in-ipython\n",
    "%load_ext autoreload\n",
    "%autoreload 2"
   ]
  },
  {
   "cell_type": "code",
   "execution_count": 2,
   "metadata": {
    "tags": [
     "pdf-ignore"
    ]
   },
   "outputs": [
    {
     "name": "stdout",
     "output_type": "stream",
     "text": [
      "Train data shape:  (49000, 3073)\n",
      "Train labels shape:  (49000,)\n",
      "Validation data shape:  (1000, 3073)\n",
      "Validation labels shape:  (1000,)\n",
      "Test data shape:  (1000, 3073)\n",
      "Test labels shape:  (1000,)\n",
      "dev data shape:  (500, 3073)\n",
      "dev labels shape:  (500,)\n"
     ]
    }
   ],
   "source": [
    "def get_CIFAR10_data(num_training=49000, num_validation=1000, num_test=1000, num_dev=500):\n",
    "    \"\"\"\n",
    "    Load the CIFAR-10 dataset from disk and perform preprocessing to prepare\n",
    "    it for the linear classifier. These are the same steps as we used for the\n",
    "    SVM, but condensed to a single function.  \n",
    "    \"\"\"\n",
    "    # Load the raw CIFAR-10 data\n",
    "    cifar10_dir = 'cs231n/datasets/cifar-10-batches-py'\n",
    "    \n",
    "    # Cleaning up variables to prevent loading data multiple times (which may cause memory issue)\n",
    "    try:\n",
    "       del X_train, y_train\n",
    "       del X_test, y_test\n",
    "       print('Clear previously loaded data.')\n",
    "    except:\n",
    "       pass\n",
    "\n",
    "    X_train, y_train, X_test, y_test = load_CIFAR10(cifar10_dir)\n",
    "    \n",
    "    # subsample the data\n",
    "    mask = list(range(num_training, num_training + num_validation))\n",
    "    X_val = X_train[mask]\n",
    "    y_val = y_train[mask]\n",
    "    mask = list(range(num_training))\n",
    "    X_train = X_train[mask]\n",
    "    y_train = y_train[mask]\n",
    "    mask = list(range(num_test))\n",
    "    X_test = X_test[mask]\n",
    "    y_test = y_test[mask]\n",
    "    mask = np.random.choice(num_training, num_dev, replace=False)\n",
    "    X_dev = X_train[mask]\n",
    "    y_dev = y_train[mask]\n",
    "    \n",
    "    # Preprocessing: reshape the image data into rows\n",
    "    X_train = np.reshape(X_train, (X_train.shape[0], -1))\n",
    "    X_val = np.reshape(X_val, (X_val.shape[0], -1))\n",
    "    X_test = np.reshape(X_test, (X_test.shape[0], -1))\n",
    "    X_dev = np.reshape(X_dev, (X_dev.shape[0], -1))\n",
    "    \n",
    "    # Normalize the data: subtract the mean image\n",
    "    mean_image = np.mean(X_train, axis = 0)\n",
    "    X_train -= mean_image\n",
    "    X_val -= mean_image\n",
    "    X_test -= mean_image\n",
    "    X_dev -= mean_image\n",
    "    \n",
    "    # add bias dimension and transform into columns\n",
    "    X_train = np.hstack([X_train, np.ones((X_train.shape[0], 1))])\n",
    "    X_val = np.hstack([X_val, np.ones((X_val.shape[0], 1))])\n",
    "    X_test = np.hstack([X_test, np.ones((X_test.shape[0], 1))])\n",
    "    X_dev = np.hstack([X_dev, np.ones((X_dev.shape[0], 1))])\n",
    "    \n",
    "    return X_train, y_train, X_val, y_val, X_test, y_test, X_dev, y_dev\n",
    "\n",
    "\n",
    "# Invoke the above function to get our data.\n",
    "X_train, y_train, X_val, y_val, X_test, y_test, X_dev, y_dev = get_CIFAR10_data()\n",
    "print('Train data shape: ', X_train.shape)\n",
    "print('Train labels shape: ', y_train.shape)\n",
    "print('Validation data shape: ', X_val.shape)\n",
    "print('Validation labels shape: ', y_val.shape)\n",
    "print('Test data shape: ', X_test.shape)\n",
    "print('Test labels shape: ', y_test.shape)\n",
    "print('dev data shape: ', X_dev.shape)\n",
    "print('dev labels shape: ', y_dev.shape)"
   ]
  },
  {
   "cell_type": "markdown",
   "metadata": {},
   "source": [
    "## Softmax Classifier\n",
    "\n",
    "Your code for this section will all be written inside `cs231n/classifiers/softmax.py`.\n"
   ]
  },
  {
   "cell_type": "code",
   "execution_count": 3,
   "metadata": {},
   "outputs": [
    {
     "name": "stdout",
     "output_type": "stream",
     "text": [
      "loss: 2.340425\n",
      "sanity check: 2.302585\n"
     ]
    }
   ],
   "source": [
    "# First implement the naive softmax loss function with nested loops.\n",
    "# Open the file cs231n/classifiers/softmax.py and implement the\n",
    "# softmax_loss_naive function.\n",
    "\n",
    "from cs231n.classifiers.softmax import softmax_loss_naive\n",
    "import time\n",
    "\n",
    "# Generate a random softmax weight matrix and use it to compute the loss.\n",
    "W = np.random.randn(3073, 10) * 0.0001\n",
    "loss, grad = softmax_loss_naive(W, X_dev, y_dev, 0.0)\n",
    "\n",
    "# As a rough sanity check, our loss should be something close to -log(0.1).\n",
    "print('loss: %f' % loss)\n",
    "print('sanity check: %f' % (-np.log(0.1)))"
   ]
  },
  {
   "cell_type": "markdown",
   "metadata": {
    "tags": [
     "pdf-inline"
    ]
   },
   "source": [
    "**Inline Question 1**\n",
    "\n",
    "Why do we expect our loss to be close to -log(0.1)? Explain briefly.**\n",
    "\n",
    "$\\color{blue}{\\textit Your Answer:}$ *Fill this in* \n",
    "\n"
   ]
  },
  {
   "cell_type": "code",
   "execution_count": 4,
   "metadata": {},
   "outputs": [
    {
     "name": "stdout",
     "output_type": "stream",
     "text": [
      "numerical: 1.119598 analytic: 1.119598, relative error: 2.414870e-08\n",
      "numerical: 1.059208 analytic: 1.059208, relative error: 3.513336e-08\n",
      "numerical: -3.252151 analytic: -3.252151, relative error: 1.357184e-08\n",
      "numerical: -2.361294 analytic: -2.361294, relative error: 1.037897e-08\n",
      "numerical: -0.443201 analytic: -0.443201, relative error: 6.021617e-09\n",
      "numerical: -0.293959 analytic: -0.293959, relative error: 1.876826e-07\n",
      "numerical: -0.474524 analytic: -0.474524, relative error: 4.538617e-08\n",
      "numerical: -2.855109 analytic: -2.855110, relative error: 2.705349e-08\n",
      "numerical: 2.359222 analytic: 2.359222, relative error: 1.987521e-08\n",
      "numerical: 0.801334 analytic: 0.801334, relative error: 4.604931e-08\n",
      "numerical: -0.560408 analytic: -0.562742, relative error: 2.078682e-03\n",
      "numerical: -3.879624 analytic: -3.871091, relative error: 1.100850e-03\n",
      "numerical: -2.044899 analytic: -2.043982, relative error: 2.244632e-04\n",
      "numerical: 2.275833 analytic: 2.282045, relative error: 1.363034e-03\n",
      "numerical: 2.736233 analytic: 2.733569, relative error: 4.869564e-04\n",
      "numerical: 0.715248 analytic: 0.716364, relative error: 7.797358e-04\n",
      "numerical: -0.143254 analytic: -0.147046, relative error: 1.306292e-02\n",
      "numerical: 2.560271 analytic: 2.555693, relative error: 8.946919e-04\n",
      "numerical: -0.821566 analytic: -0.830764, relative error: 5.566808e-03\n",
      "numerical: 0.692869 analytic: 0.695396, relative error: 1.819996e-03\n"
     ]
    }
   ],
   "source": [
    "# Complete the implementation of softmax_loss_naive and implement a (naive)\n",
    "# version of the gradient that uses nested loops.\n",
    "loss, grad = softmax_loss_naive(W, X_dev, y_dev, 0.0)\n",
    "\n",
    "# As we did for the SVM, use numeric gradient checking as a debugging tool.\n",
    "# The numeric gradient should be close to the analytic gradient.\n",
    "from cs231n.gradient_check import grad_check_sparse\n",
    "f = lambda w: softmax_loss_naive(w, X_dev, y_dev, 0.0)[0]\n",
    "grad_numerical = grad_check_sparse(f, W, grad, 10)\n",
    "\n",
    "# similar to SVM case, do another gradient check with regularization\n",
    "loss, grad = softmax_loss_naive(W, X_dev, y_dev, 5e1)\n",
    "f = lambda w: softmax_loss_naive(w, X_dev, y_dev, 5e1)[0]\n",
    "grad_numerical = grad_check_sparse(f, W, grad, 10)"
   ]
  },
  {
   "cell_type": "code",
   "execution_count": 5,
   "metadata": {},
   "outputs": [
    {
     "name": "stdout",
     "output_type": "stream",
     "text": [
      "naive loss: 2.340425e+00 computed in 0.074741s\n",
      "vectorized loss: 2.340425e+00 computed in 0.003020s\n",
      "Loss difference: 0.000000\n",
      "Gradient difference: 0.000000\n"
     ]
    }
   ],
   "source": [
    "# Now that we have a naive implementation of the softmax loss function and its gradient,\n",
    "# implement a vectorized version in softmax_loss_vectorized.\n",
    "# The two versions should compute the same results, but the vectorized version should be\n",
    "# much faster.\n",
    "tic = time.time()\n",
    "loss_naive, grad_naive = softmax_loss_naive(W, X_dev, y_dev, 0.000005)\n",
    "toc = time.time()\n",
    "print('naive loss: %e computed in %fs' % (loss_naive, toc - tic))\n",
    "\n",
    "from cs231n.classifiers.softmax import softmax_loss_vectorized\n",
    "tic = time.time()\n",
    "loss_vectorized, grad_vectorized = softmax_loss_vectorized(W, X_dev, y_dev, 0.000005)\n",
    "toc = time.time()\n",
    "print('vectorized loss: %e computed in %fs' % (loss_vectorized, toc - tic))\n",
    "\n",
    "# As we did for the SVM, we use the Frobenius norm to compare the two versions\n",
    "# of the gradient.\n",
    "grad_difference = np.linalg.norm(grad_naive - grad_vectorized, ord='fro')\n",
    "print('Loss difference: %f' % np.abs(loss_naive - loss_vectorized))\n",
    "print('Gradient difference: %f' % grad_difference)"
   ]
  },
  {
   "cell_type": "code",
   "execution_count": 8,
   "metadata": {
    "id": "tuning",
    "tags": [
     "code"
    ]
   },
   "outputs": [
    {
     "name": "stdout",
     "output_type": "stream",
     "text": [
      "iteration 0 / 1000: loss 767.926587\n",
      "iteration 100 / 1000: loss 463.749109\n",
      "iteration 200 / 1000: loss 281.015156\n",
      "iteration 300 / 1000: loss 170.714463\n",
      "iteration 400 / 1000: loss 104.062925\n",
      "iteration 500 / 1000: loss 63.757276\n",
      "iteration 600 / 1000: loss 39.456424\n",
      "iteration 700 / 1000: loss 24.731337\n",
      "iteration 800 / 1000: loss 15.763713\n",
      "iteration 900 / 1000: loss 10.401782\n",
      "iteration 0 / 1000: loss 12.378382\n",
      "iteration 100 / 1000: loss 5.953993\n",
      "iteration 200 / 1000: loss 3.541866\n",
      "iteration 300 / 1000: loss 2.666932\n",
      "iteration 400 / 1000: loss 2.333176\n",
      "iteration 500 / 1000: loss 2.179632\n",
      "iteration 600 / 1000: loss 2.161123\n",
      "iteration 700 / 1000: loss 2.173686\n",
      "iteration 800 / 1000: loss 2.219804\n",
      "iteration 900 / 1000: loss 2.155852\n",
      "iteration 0 / 1000: loss 2.020349\n",
      "iteration 100 / 1000: loss 1.958052\n",
      "iteration 200 / 1000: loss 2.061481\n",
      "iteration 300 / 1000: loss 1.983986\n",
      "iteration 400 / 1000: loss 2.023705\n",
      "iteration 500 / 1000: loss 1.927515\n",
      "iteration 600 / 1000: loss 1.986979\n",
      "iteration 700 / 1000: loss 1.996630\n",
      "iteration 800 / 1000: loss 2.016378\n",
      "iteration 900 / 1000: loss 2.068409\n",
      "iteration 0 / 1000: loss 2.184494\n",
      "iteration 100 / 1000: loss 2.115315\n",
      "iteration 200 / 1000: loss 2.162872\n",
      "iteration 300 / 1000: loss 2.128585\n",
      "iteration 400 / 1000: loss 2.122964\n",
      "iteration 500 / 1000: loss 2.132943\n",
      "iteration 600 / 1000: loss 2.061919\n",
      "iteration 700 / 1000: loss 2.119028\n",
      "iteration 800 / 1000: loss 2.095326\n",
      "iteration 900 / 1000: loss 2.059765\n",
      "iteration 0 / 1000: loss 2.318308\n",
      "iteration 100 / 1000: loss 2.098387\n",
      "iteration 200 / 1000: loss 2.226197\n",
      "iteration 300 / 1000: loss 2.183383\n",
      "iteration 400 / 1000: loss 2.158214\n",
      "iteration 500 / 1000: loss 2.152123\n",
      "iteration 600 / 1000: loss 2.125689\n",
      "iteration 700 / 1000: loss 2.100554\n",
      "iteration 800 / 1000: loss 2.211061\n",
      "iteration 900 / 1000: loss 2.159867\n",
      "iteration 0 / 1000: loss 2.048432\n",
      "iteration 100 / 1000: loss 2.011848\n",
      "iteration 200 / 1000: loss 1.968619\n",
      "iteration 300 / 1000: loss 1.981928\n",
      "iteration 400 / 1000: loss 2.027174\n",
      "iteration 500 / 1000: loss 2.052387\n",
      "iteration 600 / 1000: loss 2.051560\n",
      "iteration 700 / 1000: loss 2.004767\n",
      "iteration 800 / 1000: loss 2.147842\n",
      "iteration 900 / 1000: loss 2.065728\n",
      "iteration 0 / 1000: loss 2.212323\n",
      "iteration 100 / 1000: loss 2.107507\n",
      "iteration 200 / 1000: loss 2.099464\n",
      "iteration 300 / 1000: loss 2.104106\n",
      "iteration 400 / 1000: loss 2.095479\n",
      "iteration 500 / 1000: loss 2.108059\n",
      "iteration 600 / 1000: loss 2.104813\n",
      "iteration 700 / 1000: loss 2.128680\n",
      "iteration 800 / 1000: loss 2.109350\n",
      "iteration 900 / 1000: loss 2.068456\n",
      "iteration 0 / 1000: loss 2.376619\n",
      "iteration 100 / 1000: loss 2.212544\n",
      "iteration 200 / 1000: loss 2.156990\n",
      "iteration 300 / 1000: loss 2.128690\n",
      "iteration 400 / 1000: loss 2.171853\n",
      "iteration 500 / 1000: loss 2.166400\n",
      "iteration 600 / 1000: loss 2.166770\n",
      "iteration 700 / 1000: loss 2.229586\n",
      "iteration 800 / 1000: loss 2.128979\n",
      "iteration 900 / 1000: loss 2.159029\n",
      "iteration 0 / 1000: loss 2.017247\n",
      "iteration 100 / 1000: loss 1.978486\n",
      "iteration 200 / 1000: loss 2.034845\n",
      "iteration 300 / 1000: loss 2.011907\n",
      "iteration 400 / 1000: loss 1.982747\n",
      "iteration 500 / 1000: loss 1.988517\n",
      "iteration 600 / 1000: loss 2.093319\n",
      "iteration 700 / 1000: loss 2.010473\n",
      "iteration 800 / 1000: loss 2.024944\n",
      "iteration 900 / 1000: loss 2.102379\n",
      "lr 1.000000e-07 reg 1.500000e+04 train accuracy: 0.350061 val accuracy: 0.354000\n",
      "lr 1.000000e-07 reg 2.500000e+04 train accuracy: 0.332918 val accuracy: 0.337000\n",
      "lr 1.000000e-07 reg 5.000000e+04 train accuracy: 0.320714 val accuracy: 0.330000\n",
      "lr 4.000000e-07 reg 1.500000e+04 train accuracy: 0.345755 val accuracy: 0.349000\n",
      "lr 4.000000e-07 reg 2.500000e+04 train accuracy: 0.338408 val accuracy: 0.331000\n",
      "lr 4.000000e-07 reg 5.000000e+04 train accuracy: 0.317469 val accuracy: 0.335000\n",
      "lr 5.000000e-07 reg 1.500000e+04 train accuracy: 0.344592 val accuracy: 0.354000\n",
      "lr 5.000000e-07 reg 2.500000e+04 train accuracy: 0.334347 val accuracy: 0.347000\n",
      "lr 5.000000e-07 reg 5.000000e+04 train accuracy: 0.308347 val accuracy: 0.318000\n",
      "best validation accuracy achieved during cross-validation: 0.354000\n"
     ]
    }
   ],
   "source": [
    "# Use the validation set to tune hyperparameters (regularization strength and\n",
    "# learning rate). You should experiment with different ranges for the learning\n",
    "# rates and regularization strengths; if you are careful you should be able to\n",
    "# get a classification accuracy of over 0.35 on the validation set.\n",
    "\n",
    "from cs231n.classifiers import Softmax\n",
    "results = {}\n",
    "best_val = -1\n",
    "best_softmax = None\n",
    "\n",
    "################################################################################\n",
    "# TODO:                                                                        #\n",
    "# Use the validation set to set the learning rate and regularization strength. #\n",
    "# This should be identical to the validation that you did for the SVM; save    #\n",
    "# the best trained softmax classifer in best_softmax.                          #\n",
    "################################################################################\n",
    "\n",
    "# Provided as a reference. You may or may not want to change these hyperparameters\n",
    "learning_rates = [1e-7, 5e-7, 4e-7]\n",
    "regularization_strengths = [2.5e4, 5e4, 1.5e4]\n",
    "\n",
    "# *****START OF YOUR CODE (DO NOT DELETE/MODIFY THIS LINE)*****\n",
    "\n",
    "softmax = Softmax()\n",
    "best_softmax = None\n",
    "for lr in learning_rates:\n",
    "    for reg in regularization_strengths:\n",
    "        loss_hist = softmax.train(X_train, y_train, lr, reg,\n",
    "                      num_iters=1000, verbose=True)\n",
    "        y_train_pred = softmax.predict(X_train)\n",
    "        train_accuracy = np.mean(y_train == y_train_pred)\n",
    "        y_val_pred   = softmax.predict(X_val)\n",
    "        val_accuracy = np.mean(y_val == y_val_pred)\n",
    "        results[(lr, reg)] = train_accuracy, val_accuracy\n",
    "        if (val_accuracy > best_val):\n",
    "            best_val = val_accuracy\n",
    "            best_softmax = softmax\n",
    "\n",
    "# *****END OF YOUR CODE (DO NOT DELETE/MODIFY THIS LINE)*****\n",
    "    \n",
    "# Print out results.\n",
    "for lr, reg in sorted(results):\n",
    "    train_accuracy, val_accuracy = results[(lr, reg)]\n",
    "    print('lr %e reg %e train accuracy: %f val accuracy: %f' % (\n",
    "                lr, reg, train_accuracy, val_accuracy))\n",
    "    \n",
    "print('best validation accuracy achieved during cross-validation: %f' % best_val)"
   ]
  },
  {
   "cell_type": "code",
   "execution_count": 1,
   "metadata": {
    "id": "test"
   },
   "outputs": [
    {
     "ename": "NameError",
     "evalue": "name 'best_softmax' is not defined",
     "output_type": "error",
     "traceback": [
      "\u001b[0;31m---------------------------------------------------------------------------\u001b[0m",
      "\u001b[0;31mNameError\u001b[0m                                 Traceback (most recent call last)",
      "\u001b[0;32m/var/folders/2j/bpl09qrd7935z0zlvdqzbl2m_5ftc1/T/ipykernel_28539/4147064803.py\u001b[0m in \u001b[0;36m<module>\u001b[0;34m\u001b[0m\n\u001b[1;32m      1\u001b[0m \u001b[0;31m# evaluate on test set\u001b[0m\u001b[0;34m\u001b[0m\u001b[0;34m\u001b[0m\u001b[0;34m\u001b[0m\u001b[0m\n\u001b[1;32m      2\u001b[0m \u001b[0;31m# Evaluate the best softmax on test set\u001b[0m\u001b[0;34m\u001b[0m\u001b[0;34m\u001b[0m\u001b[0;34m\u001b[0m\u001b[0m\n\u001b[0;32m----> 3\u001b[0;31m \u001b[0my_test_pred\u001b[0m \u001b[0;34m=\u001b[0m \u001b[0mbest_softmax\u001b[0m\u001b[0;34m.\u001b[0m\u001b[0mpredict\u001b[0m\u001b[0;34m(\u001b[0m\u001b[0mX_test\u001b[0m\u001b[0;34m)\u001b[0m\u001b[0;34m\u001b[0m\u001b[0;34m\u001b[0m\u001b[0m\n\u001b[0m\u001b[1;32m      4\u001b[0m \u001b[0mtest_accuracy\u001b[0m \u001b[0;34m=\u001b[0m \u001b[0mnp\u001b[0m\u001b[0;34m.\u001b[0m\u001b[0mmean\u001b[0m\u001b[0;34m(\u001b[0m\u001b[0my_test\u001b[0m \u001b[0;34m==\u001b[0m \u001b[0my_test_pred\u001b[0m\u001b[0;34m)\u001b[0m\u001b[0;34m\u001b[0m\u001b[0;34m\u001b[0m\u001b[0m\n\u001b[1;32m      5\u001b[0m \u001b[0mprint\u001b[0m\u001b[0;34m(\u001b[0m\u001b[0;34m'softmax on raw pixels final test set accuracy: %f'\u001b[0m \u001b[0;34m%\u001b[0m \u001b[0;34m(\u001b[0m\u001b[0mtest_accuracy\u001b[0m\u001b[0;34m,\u001b[0m \u001b[0;34m)\u001b[0m\u001b[0;34m)\u001b[0m\u001b[0;34m\u001b[0m\u001b[0;34m\u001b[0m\u001b[0m\n",
      "\u001b[0;31mNameError\u001b[0m: name 'best_softmax' is not defined"
     ]
    }
   ],
   "source": [
    "# evaluate on test set\n",
    "# Evaluate the best softmax on test set\n",
    "y_test_pred = best_softmax.predict(X_test)\n",
    "test_accuracy = np.mean(y_test == y_test_pred)\n",
    "print('softmax on raw pixels final test set accuracy: %f' % (test_accuracy, ))"
   ]
  },
  {
   "cell_type": "markdown",
   "metadata": {
    "tags": [
     "pdf-inline"
    ]
   },
   "source": [
    "**Inline Question 2** - *True or False*\n",
    "\n",
    "Suppose the overall training loss is defined as the sum of the per-datapoint loss over all training examples. It is possible to add a new datapoint to a training set that would leave the SVM loss unchanged, but this is not the case with the Softmax classifier loss.\n",
    "\n",
    "$\\color{blue}{\\textit Your Answer:}$\n",
    "\n",
    "\n",
    "$\\color{blue}{\\textit Your Explanation:}$\n",
    "\n"
   ]
  },
  {
   "cell_type": "code",
   "execution_count": 9,
   "metadata": {},
   "outputs": [
    {
     "data": {
      "image/png": "[encoded data removed]",
      "text/plain": [
       "<Figure size 720x576 with 10 Axes>"
      ]
     },
     "metadata": {
      "needs_background": "light"
     },
     "output_type": "display_data"
    }
   ],
   "source": [
    "# Visualize the learned weights for each class\n",
    "w = best_softmax.W[:-1,:] # strip out the bias\n",
    "w = w.reshape(32, 32, 3, 10)\n",
    "\n",
    "w_min, w_max = np.min(w), np.max(w)\n",
    "\n",
    "classes = ['plane', 'car', 'bird', 'cat', 'deer', 'dog', 'frog', 'horse', 'ship', 'truck']\n",
    "for i in range(10):\n",
    "    plt.subplot(2, 5, i + 1)\n",
    "    \n",
    "    # Rescale the weights to be between 0 and 255\n",
    "    wimg = 255.0 * (w[:, :, :, i].squeeze() - w_min) / (w_max - w_min)\n",
    "    plt.imshow(wimg.astype('uint8'))\n",
    "    plt.axis('off')\n",
    "    plt.title(classes[i])"
   ]
  },
  {
   "cell_type": "code",
   "execution_count": null,
   "metadata": {},
   "outputs": [],
   "source": []
  }
 ],
 "metadata": {
  "kernelspec": {
   "display_name": "Python 3 (ipykernel)",
   "language": "python",
   "name": "python3"
  },
  "language_info": {
   "codemirror_mode": {
    "name": "ipython",
    "version": 3
   },
   "file_extension": ".py",
   "mimetype": "text/x-python",
   "name": "python",
   "nbconvert_exporter": "python",
   "pygments_lexer": "ipython3",
   "version": "3.8.2"
  }
 },
 "nbformat": 4,
 "nbformat_minor": 1
}
